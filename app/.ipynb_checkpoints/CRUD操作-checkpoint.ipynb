{
 "cells": [
  {
   "cell_type": "code",
   "execution_count": 2,
   "id": "d22780d9",
   "metadata": {},
   "outputs": [],
   "source": [
    "from assets.database import db_session\n",
    "from assets.database import init_db\n",
    "from assets.models import Data\n",
    "\n",
    "import datetime\n"
   ]
  },
  {
   "cell_type": "code",
   "execution_count": 3,
   "id": "cb4f264f",
   "metadata": {},
   "outputs": [
    {
     "name": "stdout",
     "output_type": "stream",
     "text": [
      "2022-03-15 19:41:28,477 INFO sqlalchemy.engine.Engine BEGIN (implicit)\n",
      "2022-03-15 19:41:28,486 INFO sqlalchemy.engine.Engine PRAGMA main.table_info(\"data\")\n",
      "2022-03-15 19:41:28,489 INFO sqlalchemy.engine.Engine [raw sql] ()\n",
      "2022-03-15 19:41:28,493 INFO sqlalchemy.engine.Engine PRAGMA temp.table_info(\"data\")\n",
      "2022-03-15 19:41:28,496 INFO sqlalchemy.engine.Engine [raw sql] ()\n",
      "2022-03-15 19:41:28,501 INFO sqlalchemy.engine.Engine \n",
      "CREATE TABLE data (\n",
      "\tid INTEGER NOT NULL, \n",
      "\tdate DATE, \n",
      "\tsubscribers INTEGER, \n",
      "\treviews INTEGER, \n",
      "\ttimestamp DATETIME, \n",
      "\tPRIMARY KEY (id)\n",
      ")\n",
      "\n",
      "\n",
      "2022-03-15 19:41:28,504 INFO sqlalchemy.engine.Engine [no key 0.00258s] ()\n",
      "2022-03-15 19:41:28,515 INFO sqlalchemy.engine.Engine COMMIT\n"
     ]
    }
   ],
   "source": [
    "init_db()"
   ]
  },
  {
   "cell_type": "markdown",
   "id": "e07e56d5",
   "metadata": {},
   "source": [
    "## Create"
   ]
  },
  {
   "cell_type": "code",
   "execution_count": 4,
   "id": "5819afe5",
   "metadata": {},
   "outputs": [
    {
     "data": {
      "text/plain": [
       "datetime.date(2022, 3, 15)"
      ]
     },
     "execution_count": 4,
     "metadata": {},
     "output_type": "execute_result"
    }
   ],
   "source": [
    "date = datetime.date.today()\n",
    "date"
   ]
  },
  {
   "cell_type": "code",
   "execution_count": 5,
   "id": "794d521a",
   "metadata": {},
   "outputs": [],
   "source": [
    "row = Data(date=date, subscribers=3500, reviews=200)"
   ]
  },
  {
   "cell_type": "code",
   "execution_count": 6,
   "id": "77d3af97",
   "metadata": {},
   "outputs": [
    {
     "data": {
      "text/plain": [
       "<assets.models.Data at 0x2295ff03eb0>"
      ]
     },
     "execution_count": 6,
     "metadata": {},
     "output_type": "execute_result"
    }
   ],
   "source": [
    "row"
   ]
  },
  {
   "cell_type": "code",
   "execution_count": 7,
   "id": "535c06bb",
   "metadata": {},
   "outputs": [
    {
     "data": {
      "text/plain": [
       "datetime.date(2022, 3, 15)"
      ]
     },
     "execution_count": 7,
     "metadata": {},
     "output_type": "execute_result"
    }
   ],
   "source": [
    "row.date"
   ]
  },
  {
   "cell_type": "code",
   "execution_count": 8,
   "id": "d34deade",
   "metadata": {},
   "outputs": [
    {
     "data": {
      "text/plain": [
       "3500"
      ]
     },
     "execution_count": 8,
     "metadata": {},
     "output_type": "execute_result"
    }
   ],
   "source": [
    "row.subscribers"
   ]
  },
  {
   "cell_type": "code",
   "execution_count": 9,
   "id": "dcc19cc0",
   "metadata": {},
   "outputs": [],
   "source": [
    "db_session.add(row)"
   ]
  },
  {
   "cell_type": "code",
   "execution_count": 10,
   "id": "10b0afd9",
   "metadata": {},
   "outputs": [
    {
     "name": "stdout",
     "output_type": "stream",
     "text": [
      "2022-03-15 19:46:45,609 INFO sqlalchemy.engine.Engine BEGIN (implicit)\n",
      "2022-03-15 19:46:45,614 INFO sqlalchemy.engine.Engine INSERT INTO data (date, subscribers, reviews, timestamp) VALUES (?, ?, ?, ?)\n",
      "2022-03-15 19:46:45,616 INFO sqlalchemy.engine.Engine [generated in 0.00243s] ('2022-03-15', 3500, 200, '2022-03-15 19:41:04.541932')\n",
      "2022-03-15 19:46:45,624 INFO sqlalchemy.engine.Engine COMMIT\n"
     ]
    }
   ],
   "source": [
    "db_session.commit()"
   ]
  },
  {
   "cell_type": "code",
   "execution_count": 12,
   "id": "91a67e83",
   "metadata": {},
   "outputs": [],
   "source": [
    "row1 = Data(date=date, subscribers=6500,reviews=210)\n",
    "row2 = Data(date=date, subscribers=1500,reviews=220)"
   ]
  },
  {
   "cell_type": "code",
   "execution_count": null,
   "id": "3b66ab6f",
   "metadata": {},
   "outputs": [],
   "source": []
  }
 ],
 "metadata": {
  "kernelspec": {
   "display_name": "Python 3 (ipykernel)",
   "language": "python",
   "name": "python3"
  },
  "language_info": {
   "codemirror_mode": {
    "name": "ipython",
    "version": 3
   },
   "file_extension": ".py",
   "mimetype": "text/x-python",
   "name": "python",
   "nbconvert_exporter": "python",
   "pygments_lexer": "ipython3",
   "version": "3.9.2"
  }
 },
 "nbformat": 4,
 "nbformat_minor": 5
}
