{
 "cells": [
  {
   "cell_type": "code",
   "execution_count": 1,
   "id": "94806d01",
   "metadata": {},
   "outputs": [],
   "source": [
    "from bs4 import BeautifulSoup\n",
    "import requests"
   ]
  },
  {
   "cell_type": "code",
   "execution_count": 2,
   "id": "20016149",
   "metadata": {},
   "outputs": [],
   "source": [
    "url='https://scraping-for-beginner.herokuapp.com/udemy'"
   ]
  },
  {
   "cell_type": "code",
   "execution_count": 3,
   "id": "43c51145",
   "metadata": {},
   "outputs": [],
   "source": [
    "r = requests.get(url)"
   ]
  },
  {
   "cell_type": "code",
   "execution_count": 4,
   "id": "4eb1717f",
   "metadata": {},
   "outputs": [],
   "source": [
    "soup = BeautifulSoup(r.text,'html.parser')"
   ]
  },
  {
   "cell_type": "code",
   "execution_count": 5,
   "id": "d3c88e2a",
   "metadata": {},
   "outputs": [],
   "source": [
    "# soup"
   ]
  },
  {
   "cell_type": "code",
   "execution_count": 6,
   "id": "84cd5d25",
   "metadata": {},
   "outputs": [
    {
     "data": {
      "text/plain": [
       "'今西 航平'"
      ]
     },
     "execution_count": 6,
     "metadata": {},
     "output_type": "execute_result"
    }
   ],
   "source": [
    "name = soup.select('.card-title')[0].string\n",
    "name"
   ]
  },
  {
   "cell_type": "code",
   "execution_count": 7,
   "id": "de312a5f",
   "metadata": {
    "scrolled": true
   },
   "outputs": [
    {
     "data": {
      "text/plain": [
       "'受講生の数：14777'"
      ]
     },
     "execution_count": 7,
     "metadata": {},
     "output_type": "execute_result"
    }
   ],
   "source": [
    "n_subscribers = soup.select('.subscribers')[0].string\n",
    "n_subscribers"
   ]
  },
  {
   "cell_type": "code",
   "execution_count": 8,
   "id": "3c63ed79",
   "metadata": {},
   "outputs": [
    {
     "data": {
      "text/plain": [
       "14777"
      ]
     },
     "execution_count": 8,
     "metadata": {},
     "output_type": "execute_result"
    }
   ],
   "source": [
    "n_subscribers = int(n_subscribers.split('：')[1])\n",
    "n_subscribers"
   ]
  },
  {
   "cell_type": "code",
   "execution_count": 9,
   "id": "b8fe780d",
   "metadata": {},
   "outputs": [
    {
     "data": {
      "text/plain": [
       "'レビューの数：2584'"
      ]
     },
     "execution_count": 9,
     "metadata": {},
     "output_type": "execute_result"
    }
   ],
   "source": [
    "n_reviews = soup.select('.reviews')[0].string\n",
    "n_reviews"
   ]
  },
  {
   "cell_type": "code",
   "execution_count": 10,
   "id": "3c481d67",
   "metadata": {},
   "outputs": [
    {
     "data": {
      "text/plain": [
       "2584"
      ]
     },
     "execution_count": 10,
     "metadata": {},
     "output_type": "execute_result"
    }
   ],
   "source": [
    "n_reviews=int(n_reviews.split('：')[1])\n",
    "n_reviews"
   ]
  },
  {
   "cell_type": "code",
   "execution_count": 21,
   "id": "846f4964",
   "metadata": {},
   "outputs": [],
   "source": [
    "results = {\n",
    "    'name': name,\n",
    "    'subscribers': n_subscribers,\n",
    "    'reviews': n_reviews\n",
    "}"
   ]
  },
  {
   "cell_type": "code",
   "execution_count": 12,
   "id": "74de721d",
   "metadata": {},
   "outputs": [
    {
     "data": {
      "text/plain": [
       "{'name': '今西 航平', 'n_subscribers': 14777, 'n_reviews': 2584}"
      ]
     },
     "execution_count": 12,
     "metadata": {},
     "output_type": "execute_result"
    }
   ],
   "source": [
    "results"
   ]
  },
  {
   "cell_type": "code",
   "execution_count": 13,
   "id": "add35a64",
   "metadata": {},
   "outputs": [],
   "source": [
    "import pandas as pd"
   ]
  },
  {
   "cell_type": "code",
   "execution_count": 14,
   "id": "e520430b",
   "metadata": {},
   "outputs": [],
   "source": [
    "df = pd.read_csv('assets/data.csv')"
   ]
  },
  {
   "cell_type": "code",
   "execution_count": 15,
   "id": "ad1b52d3",
   "metadata": {},
   "outputs": [
    {
     "data": {
      "text/html": [
       "<div>\n",
       "<style scoped>\n",
       "    .dataframe tbody tr th:only-of-type {\n",
       "        vertical-align: middle;\n",
       "    }\n",
       "\n",
       "    .dataframe tbody tr th {\n",
       "        vertical-align: top;\n",
       "    }\n",
       "\n",
       "    .dataframe thead th {\n",
       "        text-align: right;\n",
       "    }\n",
       "</style>\n",
       "<table border=\"1\" class=\"dataframe\">\n",
       "  <thead>\n",
       "    <tr style=\"text-align: right;\">\n",
       "      <th></th>\n",
       "      <th>date</th>\n",
       "      <th>subscribers</th>\n",
       "      <th>reviews</th>\n",
       "    </tr>\n",
       "  </thead>\n",
       "  <tbody>\n",
       "    <tr>\n",
       "      <th>0</th>\n",
       "      <td>2019/1/17</td>\n",
       "      <td>2671</td>\n",
       "      <td>194</td>\n",
       "    </tr>\n",
       "    <tr>\n",
       "      <th>1</th>\n",
       "      <td>2019/1/18</td>\n",
       "      <td>2671</td>\n",
       "      <td>195</td>\n",
       "    </tr>\n",
       "    <tr>\n",
       "      <th>2</th>\n",
       "      <td>2019/1/19</td>\n",
       "      <td>2674</td>\n",
       "      <td>197</td>\n",
       "    </tr>\n",
       "    <tr>\n",
       "      <th>3</th>\n",
       "      <td>2019/1/20</td>\n",
       "      <td>2685</td>\n",
       "      <td>199</td>\n",
       "    </tr>\n",
       "    <tr>\n",
       "      <th>4</th>\n",
       "      <td>2019/1/21</td>\n",
       "      <td>2695</td>\n",
       "      <td>199</td>\n",
       "    </tr>\n",
       "  </tbody>\n",
       "</table>\n",
       "</div>"
      ],
      "text/plain": [
       "        date  subscribers  reviews\n",
       "0  2019/1/17         2671      194\n",
       "1  2019/1/18         2671      195\n",
       "2  2019/1/19         2674      197\n",
       "3  2019/1/20         2685      199\n",
       "4  2019/1/21         2695      199"
      ]
     },
     "execution_count": 15,
     "metadata": {},
     "output_type": "execute_result"
    }
   ],
   "source": [
    "df.head()"
   ]
  },
  {
   "cell_type": "code",
   "execution_count": 16,
   "id": "5186086d",
   "metadata": {},
   "outputs": [
    {
     "data": {
      "text/plain": [
       "<bound method NDFrame.tail of           date  subscribers  reviews\n",
       "0    2019/1/17         2671      194\n",
       "1    2019/1/18         2671      195\n",
       "2    2019/1/19         2674      197\n",
       "3    2019/1/20         2685      199\n",
       "4    2019/1/21         2695      199\n",
       "..         ...          ...      ...\n",
       "751   2021/2/5        10753     1820\n",
       "752   2021/2/6        10753     1824\n",
       "753   2021/2/7        10756     1824\n",
       "754   2021/2/8        10776     1826\n",
       "755   2021/2/9        10796     1831\n",
       "\n",
       "[756 rows x 3 columns]>"
      ]
     },
     "execution_count": 16,
     "metadata": {},
     "output_type": "execute_result"
    }
   ],
   "source": [
    "df.tail"
   ]
  },
  {
   "cell_type": "code",
   "execution_count": 17,
   "id": "92d55a76",
   "metadata": {},
   "outputs": [],
   "source": [
    "import datetime"
   ]
  },
  {
   "cell_type": "code",
   "execution_count": 18,
   "id": "3108ae81",
   "metadata": {},
   "outputs": [
    {
     "data": {
      "text/plain": [
       "'2022/02/02'"
      ]
     },
     "execution_count": 18,
     "metadata": {},
     "output_type": "execute_result"
    }
   ],
   "source": [
    "datetime.datetime.today().strftime('%Y/%m/%d').replace('/O','/')"
   ]
  },
  {
   "cell_type": "code",
   "execution_count": 26,
   "id": "9e0069d4",
   "metadata": {},
   "outputs": [],
   "source": [
    "subscribers = results['subscribers']\n",
    "reviews = results['reviews']"
   ]
  },
  {
   "cell_type": "code",
   "execution_count": 27,
   "id": "1d47edf9",
   "metadata": {},
   "outputs": [
    {
     "data": {
      "text/plain": [
       "14777"
      ]
     },
     "execution_count": 27,
     "metadata": {},
     "output_type": "execute_result"
    }
   ],
   "source": [
    "subscribers"
   ]
  },
  {
   "cell_type": "code",
   "execution_count": 28,
   "id": "b571274e",
   "metadata": {},
   "outputs": [
    {
     "data": {
      "text/plain": [
       "2584"
      ]
     },
     "execution_count": 28,
     "metadata": {},
     "output_type": "execute_result"
    }
   ],
   "source": [
    "reviews"
   ]
  },
  {
   "cell_type": "code",
   "execution_count": 30,
   "id": "ca328830",
   "metadata": {},
   "outputs": [],
   "source": [
    "results=pd.DataFrame([[date,subscribers,reviews]],columns=['date','subscribers','reviews'])"
   ]
  },
  {
   "cell_type": "code",
   "execution_count": 32,
   "id": "1352ef6b",
   "metadata": {},
   "outputs": [
    {
     "data": {
      "text/html": [
       "<div>\n",
       "<style scoped>\n",
       "    .dataframe tbody tr th:only-of-type {\n",
       "        vertical-align: middle;\n",
       "    }\n",
       "\n",
       "    .dataframe tbody tr th {\n",
       "        vertical-align: top;\n",
       "    }\n",
       "\n",
       "    .dataframe thead th {\n",
       "        text-align: right;\n",
       "    }\n",
       "</style>\n",
       "<table border=\"1\" class=\"dataframe\">\n",
       "  <thead>\n",
       "    <tr style=\"text-align: right;\">\n",
       "      <th></th>\n",
       "      <th>date</th>\n",
       "      <th>subscribers</th>\n",
       "      <th>reviews</th>\n",
       "    </tr>\n",
       "  </thead>\n",
       "  <tbody>\n",
       "    <tr>\n",
       "      <th>752</th>\n",
       "      <td>2021/2/6</td>\n",
       "      <td>10753</td>\n",
       "      <td>1824</td>\n",
       "    </tr>\n",
       "    <tr>\n",
       "      <th>753</th>\n",
       "      <td>2021/2/7</td>\n",
       "      <td>10756</td>\n",
       "      <td>1824</td>\n",
       "    </tr>\n",
       "    <tr>\n",
       "      <th>754</th>\n",
       "      <td>2021/2/8</td>\n",
       "      <td>10776</td>\n",
       "      <td>1826</td>\n",
       "    </tr>\n",
       "    <tr>\n",
       "      <th>755</th>\n",
       "      <td>2021/2/9</td>\n",
       "      <td>10796</td>\n",
       "      <td>1831</td>\n",
       "    </tr>\n",
       "    <tr>\n",
       "      <th>0</th>\n",
       "      <td>2022/02/02</td>\n",
       "      <td>14777</td>\n",
       "      <td>2584</td>\n",
       "    </tr>\n",
       "  </tbody>\n",
       "</table>\n",
       "</div>"
      ],
      "text/plain": [
       "           date  subscribers  reviews\n",
       "752    2021/2/6        10753     1824\n",
       "753    2021/2/7        10756     1824\n",
       "754    2021/2/8        10776     1826\n",
       "755    2021/2/9        10796     1831\n",
       "0    2022/02/02        14777     2584"
      ]
     },
     "execution_count": 32,
     "metadata": {},
     "output_type": "execute_result"
    }
   ],
   "source": [
    "df = pd.concat([df,results])\n",
    "df.tail()"
   ]
  },
  {
   "cell_type": "code",
   "execution_count": 33,
   "id": "56145cc3",
   "metadata": {},
   "outputs": [],
   "source": [
    "df.to_csv('assets/data.csv',index=False)"
   ]
  },
  {
   "cell_type": "markdown",
   "id": "afb89e60",
   "metadata": {},
   "source": [
    "-udemyから情報をとってくる関数（'get_udemy_info'）\n",
    "-CSVに書き込む関数（write_data）"
   ]
  },
  {
   "cell_type": "code",
   "execution_count": 38,
   "id": "c9f94e63",
   "metadata": {},
   "outputs": [],
   "source": [
    "def get_udemy_info():\n",
    "    url='https://scraping-for-beginner.herokuapp.com/udemy'\n",
    "\n",
    "    r = requests.get(url)\n",
    "    soup = BeautifulSoup(r.text,'html.parser')\n",
    "\n",
    "    name = soup.select('.card-title')[0].string\n",
    "\n",
    "    n_subscribers = soup.select('.subscribers')[0].string\n",
    "    n_subscribers = int(n_subscribers.split('：')[1])\n",
    "\n",
    "    n_reviews = soup.select('.reviews')[0].string\n",
    "    n_reviews=int(n_reviews.split('：')[1])\n",
    "\n",
    "    results = {\n",
    "        'name': name,\n",
    "        'subscribers': n_subscribers,\n",
    "        'reviews': n_reviews\n",
    "    }\n",
    "\n",
    "    return results"
   ]
  },
  {
   "cell_type": "code",
   "execution_count": 42,
   "id": "40c2f4e3",
   "metadata": {},
   "outputs": [
    {
     "data": {
      "text/plain": [
       "14777"
      ]
     },
     "execution_count": 42,
     "metadata": {},
     "output_type": "execute_result"
    }
   ],
   "source": [
    "get_udemy_info()['subscribers']"
   ]
  },
  {
   "cell_type": "code",
   "execution_count": 43,
   "id": "2abcb744",
   "metadata": {},
   "outputs": [],
   "source": [
    "def write_data():\n",
    "    df = pd.read_csv('assets/data.csv')\n",
    "\n",
    "    _results = get_udemy_info()\n",
    "\n",
    "\n",
    "    date=datetime.datetime.today().strftime('%Y/%m/%d').replace('/O','/')\n",
    "    subscribers = _results['subscribers']\n",
    "    reviews = _results['reviews']\n",
    "    results=pd.DataFrame([[date,subscribers,reviews]],columns=['date','subscribers','reviews'])\n",
    "\n",
    "    df = pd.concat([df,results])\n",
    "    df.to_csv('assets/data.csv',index=False)"
   ]
  },
  {
   "cell_type": "code",
   "execution_count": null,
   "id": "f5946c61",
   "metadata": {},
   "outputs": [],
   "source": []
  },
  {
   "cell_type": "code",
   "execution_count": null,
   "id": "c3f5ca75",
   "metadata": {},
   "outputs": [],
   "source": []
  },
  {
   "cell_type": "code",
   "execution_count": null,
   "id": "33038325",
   "metadata": {},
   "outputs": [],
   "source": []
  },
  {
   "cell_type": "code",
   "execution_count": null,
   "id": "ab76e970",
   "metadata": {},
   "outputs": [],
   "source": []
  },
  {
   "cell_type": "code",
   "execution_count": null,
   "id": "71778657",
   "metadata": {},
   "outputs": [],
   "source": []
  },
  {
   "cell_type": "code",
   "execution_count": null,
   "id": "2514d7fe",
   "metadata": {},
   "outputs": [],
   "source": []
  },
  {
   "cell_type": "code",
   "execution_count": null,
   "id": "70654149",
   "metadata": {},
   "outputs": [],
   "source": []
  },
  {
   "cell_type": "code",
   "execution_count": null,
   "id": "0ed83726",
   "metadata": {},
   "outputs": [],
   "source": []
  },
  {
   "cell_type": "code",
   "execution_count": null,
   "id": "3d3b5899",
   "metadata": {},
   "outputs": [],
   "source": []
  },
  {
   "cell_type": "code",
   "execution_count": null,
   "id": "c88b52de",
   "metadata": {},
   "outputs": [],
   "source": []
  },
  {
   "cell_type": "code",
   "execution_count": null,
   "id": "757ac394",
   "metadata": {},
   "outputs": [],
   "source": []
  },
  {
   "cell_type": "code",
   "execution_count": null,
   "id": "a1b2c093",
   "metadata": {},
   "outputs": [],
   "source": []
  }
 ],
 "metadata": {
  "kernelspec": {
   "display_name": "Python 3 (ipykernel)",
   "language": "python",
   "name": "python3"
  },
  "language_info": {
   "codemirror_mode": {
    "name": "ipython",
    "version": 3
   },
   "file_extension": ".py",
   "mimetype": "text/x-python",
   "name": "python",
   "nbconvert_exporter": "python",
   "pygments_lexer": "ipython3",
   "version": "3.9.2"
  }
 },
 "nbformat": 4,
 "nbformat_minor": 5
}
