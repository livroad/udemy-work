{
 "cells": [
  {
   "cell_type": "code",
   "execution_count": 2,
   "id": "f5d1117c",
   "metadata": {},
   "outputs": [],
   "source": [
    "from assets.database import db_session\n",
    "from assets.database import init_db\n",
    "from assets.models import Data\n",
    "\n",
    "import datetime\n"
   ]
  },
  {
   "cell_type": "code",
   "execution_count": 3,
   "id": "3b44680f",
   "metadata": {},
   "outputs": [
    {
     "name": "stdout",
     "output_type": "stream",
     "text": [
      "2022-03-15 19:41:28,477 INFO sqlalchemy.engine.Engine BEGIN (implicit)\n",
      "2022-03-15 19:41:28,486 INFO sqlalchemy.engine.Engine PRAGMA main.table_info(\"data\")\n",
      "2022-03-15 19:41:28,489 INFO sqlalchemy.engine.Engine [raw sql] ()\n",
      "2022-03-15 19:41:28,493 INFO sqlalchemy.engine.Engine PRAGMA temp.table_info(\"data\")\n",
      "2022-03-15 19:41:28,496 INFO sqlalchemy.engine.Engine [raw sql] ()\n",
      "2022-03-15 19:41:28,501 INFO sqlalchemy.engine.Engine \n",
      "CREATE TABLE data (\n",
      "\tid INTEGER NOT NULL, \n",
      "\tdate DATE, \n",
      "\tsubscribers INTEGER, \n",
      "\treviews INTEGER, \n",
      "\ttimestamp DATETIME, \n",
      "\tPRIMARY KEY (id)\n",
      ")\n",
      "\n",
      "\n",
      "2022-03-15 19:41:28,504 INFO sqlalchemy.engine.Engine [no key 0.00258s] ()\n",
      "2022-03-15 19:41:28,515 INFO sqlalchemy.engine.Engine COMMIT\n"
     ]
    }
   ],
   "source": [
    "init_db()"
   ]
  },
  {
   "cell_type": "markdown",
   "id": "a8874c91",
   "metadata": {},
   "source": [
    "## Create"
   ]
  },
  {
   "cell_type": "code",
   "execution_count": 4,
   "id": "ffcd4433",
   "metadata": {},
   "outputs": [
    {
     "data": {
      "text/plain": [
       "datetime.date(2022, 3, 15)"
      ]
     },
     "execution_count": 4,
     "metadata": {},
     "output_type": "execute_result"
    }
   ],
   "source": [
    "date = datetime.date.today()\n",
    "date"
   ]
  },
  {
   "cell_type": "code",
   "execution_count": 5,
   "id": "fc8b460f",
   "metadata": {},
   "outputs": [],
   "source": [
    "row = Data(date=date, subscribers=3500, reviews=200)"
   ]
  },
  {
   "cell_type": "code",
   "execution_count": 6,
   "id": "faecc6a2",
   "metadata": {},
   "outputs": [
    {
     "data": {
      "text/plain": [
       "<assets.models.Data at 0x2295ff03eb0>"
      ]
     },
     "execution_count": 6,
     "metadata": {},
     "output_type": "execute_result"
    }
   ],
   "source": [
    "row"
   ]
  },
  {
   "cell_type": "code",
   "execution_count": 7,
   "id": "37614d34",
   "metadata": {},
   "outputs": [
    {
     "data": {
      "text/plain": [
       "datetime.date(2022, 3, 15)"
      ]
     },
     "execution_count": 7,
     "metadata": {},
     "output_type": "execute_result"
    }
   ],
   "source": [
    "row.date"
   ]
  },
  {
   "cell_type": "code",
   "execution_count": 8,
   "id": "a7788685",
   "metadata": {},
   "outputs": [
    {
     "data": {
      "text/plain": [
       "3500"
      ]
     },
     "execution_count": 8,
     "metadata": {},
     "output_type": "execute_result"
    }
   ],
   "source": [
    "row.subscribers"
   ]
  },
  {
   "cell_type": "code",
   "execution_count": 9,
   "id": "475eafd3",
   "metadata": {},
   "outputs": [],
   "source": [
    "db_session.add(row)"
   ]
  },
  {
   "cell_type": "code",
   "execution_count": 10,
   "id": "7b0630d1",
   "metadata": {},
   "outputs": [
    {
     "name": "stdout",
     "output_type": "stream",
     "text": [
      "2022-03-15 19:46:45,609 INFO sqlalchemy.engine.Engine BEGIN (implicit)\n",
      "2022-03-15 19:46:45,614 INFO sqlalchemy.engine.Engine INSERT INTO data (date, subscribers, reviews, timestamp) VALUES (?, ?, ?, ?)\n",
      "2022-03-15 19:46:45,616 INFO sqlalchemy.engine.Engine [generated in 0.00243s] ('2022-03-15', 3500, 200, '2022-03-15 19:41:04.541932')\n",
      "2022-03-15 19:46:45,624 INFO sqlalchemy.engine.Engine COMMIT\n"
     ]
    }
   ],
   "source": [
    "db_session.commit()"
   ]
  },
  {
   "cell_type": "code",
   "execution_count": 12,
   "id": "1f00b993",
   "metadata": {},
   "outputs": [],
   "source": [
    "row1 = Data(date=date, subscribers=6500,reviews=210)\n",
    "row2 = Data(date=date, subscribers=1500,reviews=220)"
   ]
  },
  {
   "cell_type": "code",
   "execution_count": 13,
   "id": "f8748b05",
   "metadata": {},
   "outputs": [],
   "source": [
    "db_session.add(row1)\n",
    "db_session.add(row2)"
   ]
  },
  {
   "cell_type": "code",
   "execution_count": 15,
   "id": "9e6383b3",
   "metadata": {},
   "outputs": [
    {
     "name": "stdout",
     "output_type": "stream",
     "text": [
      "2022-03-15 19:49:20,088 INFO sqlalchemy.engine.Engine BEGIN (implicit)\n",
      "2022-03-15 19:49:20,091 INFO sqlalchemy.engine.Engine INSERT INTO data (date, subscribers, reviews, timestamp) VALUES (?, ?, ?, ?)\n",
      "2022-03-15 19:49:20,094 INFO sqlalchemy.engine.Engine [cached since 154.5s ago] ('2022-03-15', 6500, 210, '2022-03-15 19:41:04.541932')\n",
      "2022-03-15 19:49:20,104 INFO sqlalchemy.engine.Engine INSERT INTO data (date, subscribers, reviews, timestamp) VALUES (?, ?, ?, ?)\n",
      "2022-03-15 19:49:20,106 INFO sqlalchemy.engine.Engine [cached since 154.5s ago] ('2022-03-15', 1500, 220, '2022-03-15 19:41:04.541932')\n",
      "2022-03-15 19:49:20,109 INFO sqlalchemy.engine.Engine COMMIT\n"
     ]
    }
   ],
   "source": [
    "db_session.commit()"
   ]
  },
  {
   "cell_type": "markdown",
   "id": "6d63d191",
   "metadata": {},
   "source": [
    "## Read"
   ]
  },
  {
   "cell_type": "code",
   "execution_count": 18,
   "id": "6ef78485",
   "metadata": {},
   "outputs": [
    {
     "name": "stdout",
     "output_type": "stream",
     "text": [
      "2022-03-15 19:50:25,088 INFO sqlalchemy.engine.Engine BEGIN (implicit)\n",
      "2022-03-15 19:50:25,094 INFO sqlalchemy.engine.Engine SELECT data.id AS data_id, data.date AS data_date, data.subscribers AS data_subscribers, data.reviews AS data_reviews, data.timestamp AS data_timestamp \n",
      "FROM data\n",
      "2022-03-15 19:50:25,096 INFO sqlalchemy.engine.Engine [generated in 0.00183s] ()\n"
     ]
    },
    {
     "data": {
      "text/plain": [
       "[<assets.models.Data at 0x2295ff03eb0>,\n",
       " <assets.models.Data at 0x229630a9040>,\n",
       " <assets.models.Data at 0x229630a9250>]"
      ]
     },
     "execution_count": 18,
     "metadata": {},
     "output_type": "execute_result"
    }
   ],
   "source": [
    "db_session.query(Data).all()"
   ]
  },
  {
   "cell_type": "code",
   "execution_count": 20,
   "id": "37473022",
   "metadata": {},
   "outputs": [
    {
     "name": "stdout",
     "output_type": "stream",
     "text": [
      "2022-03-15 19:50:56,625 INFO sqlalchemy.engine.Engine SELECT data.id AS data_id, data.date AS data_date, data.subscribers AS data_subscribers, data.reviews AS data_reviews, data.timestamp AS data_timestamp \n",
      "FROM data\n",
      "2022-03-15 19:50:56,627 INFO sqlalchemy.engine.Engine [cached since 31.53s ago] ()\n"
     ]
    },
    {
     "data": {
      "text/plain": [
       "3500"
      ]
     },
     "execution_count": 20,
     "metadata": {},
     "output_type": "execute_result"
    }
   ],
   "source": [
    "db_session.query(Data).all()[0].subscribers"
   ]
  },
  {
   "cell_type": "code",
   "execution_count": 22,
   "id": "d7bd5b9a",
   "metadata": {},
   "outputs": [
    {
     "name": "stdout",
     "output_type": "stream",
     "text": [
      "2022-03-15 21:06:12,114 INFO sqlalchemy.engine.Engine SELECT data.id AS data_id, data.date AS data_date, data.subscribers AS data_subscribers, data.reviews AS data_reviews, data.timestamp AS data_timestamp \n",
      "FROM data\n",
      "2022-03-15 21:06:12,117 INFO sqlalchemy.engine.Engine [cached since 4547s ago] ()\n"
     ]
    },
    {
     "data": {
      "text/plain": [
       "<assets.models.Data at 0x2295ff03eb0>"
      ]
     },
     "execution_count": 22,
     "metadata": {},
     "output_type": "execute_result"
    }
   ],
   "source": [
    "datum = db_session.query(Data).all()[0]\n",
    "datum"
   ]
  },
  {
   "cell_type": "code",
   "execution_count": 23,
   "id": "7fbd0da0",
   "metadata": {},
   "outputs": [],
   "source": [
    "datum.subscribers = 10000"
   ]
  },
  {
   "cell_type": "code",
   "execution_count": 24,
   "id": "085255ae",
   "metadata": {},
   "outputs": [
    {
     "name": "stdout",
     "output_type": "stream",
     "text": [
      "2022-03-15 21:06:53,244 INFO sqlalchemy.engine.Engine UPDATE data SET subscribers=? WHERE data.id = ?\n",
      "2022-03-15 21:06:53,247 INFO sqlalchemy.engine.Engine [generated in 0.00324s] (10000, 1)\n",
      "2022-03-15 21:06:53,252 INFO sqlalchemy.engine.Engine COMMIT\n"
     ]
    }
   ],
   "source": [
    "db_session.add(datum)\n",
    "db_session.commit()"
   ]
  },
  {
   "cell_type": "code",
   "execution_count": 25,
   "id": "6a803ec8",
   "metadata": {},
   "outputs": [
    {
     "name": "stdout",
     "output_type": "stream",
     "text": [
      "2022-03-15 21:07:20,066 INFO sqlalchemy.engine.Engine BEGIN (implicit)\n",
      "2022-03-15 21:07:20,069 INFO sqlalchemy.engine.Engine SELECT data.id AS data_id, data.date AS data_date, data.subscribers AS data_subscribers, data.reviews AS data_reviews, data.timestamp AS data_timestamp \n",
      "FROM data\n",
      "2022-03-15 21:07:20,072 INFO sqlalchemy.engine.Engine [cached since 4615s ago] ()\n"
     ]
    },
    {
     "data": {
      "text/plain": [
       "10000"
      ]
     },
     "execution_count": 25,
     "metadata": {},
     "output_type": "execute_result"
    }
   ],
   "source": [
    "db_session.query(Data).all()[0].subscribers"
   ]
  },
  {
   "cell_type": "markdown",
   "id": "95acc8c6",
   "metadata": {},
   "source": [
    "## Delete"
   ]
  },
  {
   "cell_type": "code",
   "execution_count": 27,
   "id": "48c90063",
   "metadata": {},
   "outputs": [
    {
     "name": "stdout",
     "output_type": "stream",
     "text": [
      "2022-03-15 21:09:03,273 INFO sqlalchemy.engine.Engine SELECT data.id AS data_id, data.date AS data_date, data.subscribers AS data_subscribers, data.reviews AS data_reviews, data.timestamp AS data_timestamp \n",
      "FROM data \n",
      "WHERE data.subscribers = ?\n",
      "2022-03-15 21:09:03,276 INFO sqlalchemy.engine.Engine [cached since 15.12s ago] (10000,)\n"
     ]
    }
   ],
   "source": [
    "datum = db_session.query(Data).filter_by(subscribers = 10000).one()"
   ]
  },
  {
   "cell_type": "code",
   "execution_count": 28,
   "id": "729d89a8",
   "metadata": {},
   "outputs": [
    {
     "name": "stdout",
     "output_type": "stream",
     "text": [
      "2022-03-15 21:09:39,489 INFO sqlalchemy.engine.Engine DELETE FROM data WHERE data.id = ?\n",
      "2022-03-15 21:09:39,492 INFO sqlalchemy.engine.Engine [generated in 0.00265s] (1,)\n",
      "2022-03-15 21:09:39,500 INFO sqlalchemy.engine.Engine COMMIT\n"
     ]
    }
   ],
   "source": [
    "db_session.delete(datum)\n",
    "db_session.commit()"
   ]
  },
  {
   "cell_type": "code",
   "execution_count": 29,
   "id": "65a7c753",
   "metadata": {},
   "outputs": [
    {
     "name": "stdout",
     "output_type": "stream",
     "text": [
      "2022-03-15 21:09:55,335 INFO sqlalchemy.engine.Engine BEGIN (implicit)\n",
      "2022-03-15 21:09:55,338 INFO sqlalchemy.engine.Engine SELECT data.id AS data_id, data.date AS data_date, data.subscribers AS data_subscribers, data.reviews AS data_reviews, data.timestamp AS data_timestamp \n",
      "FROM data\n",
      "2022-03-15 21:09:55,340 INFO sqlalchemy.engine.Engine [cached since 4770s ago] ()\n"
     ]
    },
    {
     "data": {
      "text/plain": [
       "[<assets.models.Data at 0x229630a9040>, <assets.models.Data at 0x229630a9250>]"
      ]
     },
     "execution_count": 29,
     "metadata": {},
     "output_type": "execute_result"
    }
   ],
   "source": [
    "db_session.query(Data).all()"
   ]
  },
  {
   "cell_type": "code",
   "execution_count": 30,
   "id": "9c6a7348",
   "metadata": {},
   "outputs": [
    {
     "name": "stdout",
     "output_type": "stream",
     "text": [
      "2022-03-15 21:10:26,052 INFO sqlalchemy.engine.Engine DELETE FROM data\n",
      "2022-03-15 21:10:26,055 INFO sqlalchemy.engine.Engine [generated in 0.00242s] ()\n"
     ]
    },
    {
     "data": {
      "text/plain": [
       "2"
      ]
     },
     "execution_count": 30,
     "metadata": {},
     "output_type": "execute_result"
    }
   ],
   "source": [
    "Data.query.delete()"
   ]
  },
  {
   "cell_type": "code",
   "execution_count": null,
   "id": "7c51c99f",
   "metadata": {},
   "outputs": [],
   "source": []
  }
 ],
 "metadata": {
  "kernelspec": {
   "display_name": "Python 3 (ipykernel)",
   "language": "python",
   "name": "python3"
  },
  "language_info": {
   "codemirror_mode": {
    "name": "ipython",
    "version": 3
   },
   "file_extension": ".py",
   "mimetype": "text/x-python",
   "name": "python",
   "nbconvert_exporter": "python",
   "pygments_lexer": "ipython3",
   "version": "3.9.2"
  }
 },
 "nbformat": 4,
 "nbformat_minor": 5
}
